{
  "nbformat": 4,
  "nbformat_minor": 0,
  "metadata": {
    "colab": {
      "provenance": [],
      "include_colab_link": true
    },
    "kernelspec": {
      "name": "python3",
      "display_name": "Python 3"
    }
  },
  "cells": [
    {
      "cell_type": "markdown",
      "metadata": {
        "id": "view-in-github",
        "colab_type": "text"
      },
      "source": [
        "<a href=\"https://colab.research.google.com/github/vianiecetan/ICT3113/blob/main/AY24_25_ICT3102_Week05_Performance_Basics_Student.ipynb\" target=\"_parent\"><img src=\"https://colab.research.google.com/assets/colab-badge.svg\" alt=\"Open In Colab\"/></a>"
      ]
    },
    {
      "cell_type": "markdown",
      "metadata": {
        "id": "oFsaw0QMvNzo"
      },
      "source": [
        "## 5.0 Learning Objectives\n",
        "\n",
        "By the end of this tutorial, you would have learnt the following:\n",
        "\n",
        "1. How to calculate arrival rate.\n",
        "\n",
        "2. How to calculate service time.\n",
        "\n",
        "3. How to calculate utilization."
      ]
    },
    {
      "cell_type": "markdown",
      "metadata": {
        "id": "dHKoWTSsvtE-"
      },
      "source": [
        "A high-precision nut factory requires that every nut be individually tracked and tested to ensure it meets rigorous standards for purity, weight and colour. Figure 1 shows a schematic of the factory.\n",
        "\n",
        "Unprocessed nuts delivered to the factory are loaded into a funnel that emits them one at a time onto a conveyor belt. Each nut first passes through a machine that separates the nut from its shell. After shelling, it is photographed and weighed.\n",
        "The shelling machine is imperfect, such that 1% of the nuts that pass through it are not properly separated from their shells. Some image processing software examines the photograph to determine whether or not the shell has been completely removed. If not, the nut is routed back into the funnel.\n",
        "\n",
        "After shelling and testing, exactly half of the nuts are roasted. These nuts are routed into an oven, where they circulate for twenty minutes before being emerging on the other side. Nuts move continuously through the oven, so that they emerge at the same rate at which they enter. The nuts are photographed again as they leave the oven and some image processing software verifies that they have been roasted to the proper colour. On average, 2% of nuts are overcooked or undercooked, and are discarded.\n",
        "\n",
        "Out of all nuts not discarded (whether roasted or not), 40% are to be salted, 20% are to be coated in chocolate, and 40% are to be neither salted nor coated in chocolate. No nuts are both salted and coated in chocolate. The salting machine works by pouring salt and all of the nuts destined for a single packet into a container, then shaking this container until the nuts and salt are mixed. The chocolate-coating machine works by spraying a coating of chocolate on each nut as it passes through.\n",
        "\n",
        "The factory operates for twelve hours a day, and in this time processes 600 kilograms of nuts (after shelling but before coating). Each kilogram contains 400 individual nuts on average. You may ignore the time taken to start up and shut down the machinery."
      ]
    },
    {
      "cell_type": "markdown",
      "metadata": {
        "id": "-A-_FfBZ8m1d"
      },
      "source": [
        "![alt text](https://drive.google.com/uc?export=view&id=1WYej8xDRMTr3qRt5A3KflcKAjp7wds21)\n",
        "\n"
      ]
    },
    {
      "cell_type": "markdown",
      "metadata": {
        "id": "2ssW9XPn9Crx"
      },
      "source": [
        "Question 1: Give or compute each of the following quantities, according to the information given in the scenario.\n",
        "\n",
        "1a. The average arrival rate (per minute) of nuts to be tested after roasting in the oven.\n",
        "\n",
        "1b. The maximum average service time that can be tolerated for the colour test unit, in order to keep up with the arrival rate calculated in Q1(a).\n",
        "\n",
        "1c. The transfer rate (in bits per second) of the connection between the camera and image processing system in the colour test unit, if each image is an uncompressed 128x128 image with 24 bits per pixel.\n",
        "\n",
        "1d. The average utilisation of the photographing and weighing unit, if it takes 5ms to photograph, weigh and verify each nut. (Assume that 1% of nuts pass through the photographing / weighing unit twice)"
      ]
    },
    {
      "cell_type": "markdown",
      "metadata": {
        "id": "EeSgAGKx9XRj"
      },
      "source": [
        "Question 2: Give the number of times the activities associated with each following functional requirements must be performed in one minute.\n",
        "\n",
        "2a. Nuts that are improperly shelled should be routed back into the funnel.\n",
        "\n",
        "2b. Nuts that are either overcooked or undercooked should be discarded.\n",
        "\n",
        "2c. Both roasted and unroasted nuts selected for coating must be coated in chocolate.\n"
      ]
    }
  ]
}