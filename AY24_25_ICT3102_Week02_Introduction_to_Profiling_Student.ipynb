{
  "cells": [
    {
      "cell_type": "markdown",
      "metadata": {
        "id": "6NW1-dJiTenx"
      },
      "source": [
        "## 2.0 Learning Objectives\n",
        "\n",
        "By the end of this lab, you would have learnt the following:\n",
        "\n",
        "1.   How to use google colab\n",
        "2.   The difference between deterministic profilers and statistical profilers.\n",
        "3.   How to profile the **running time** of a piece of python code.\n",
        "4.   How to profile the **memory consumption** of a piece of python code.\n",
        "5.   How to profile the **cpu usage** of a piece of python code."
      ]
    },
    {
      "cell_type": "markdown",
      "metadata": {
        "id": "Qz4vjN9yLEdh"
      },
      "source": [
        "## 2.1.1 Google Colab\n",
        "\n",
        "The Google colab is a free cloud service which allows us to execute code on Google's cloud servers. It is extremely convenient for us as it provides all of us with the same environment to work off from. Let's see what hardware Google is providing us with:"
      ]
    },
    {
      "cell_type": "code",
      "execution_count": 1,
      "metadata": {
        "id": "UaMFQZbELFZT"
      },
      "outputs": [
        {
          "data": {
            "text/plain": [
              "20"
            ]
          },
          "execution_count": 1,
          "metadata": {},
          "output_type": "execute_result"
        }
      ],
      "source": [
        "from psutil import *\n",
        "cpu_count()"
      ]
    },
    {
      "cell_type": "markdown",
      "metadata": {
        "id": "SNOeQLvLLQw5"
      },
      "source": [
        "Typically you will see the value of two here. As of now, google provides us with a dual core Intel Xeon either 2.20 or 2.30 GHz. You will be able to get more details of the software / hardware from the following:\n"
      ]
    },
    {
      "cell_type": "code",
      "execution_count": null,
      "metadata": {
        "id": "mggLznxzLLEo"
      },
      "outputs": [],
      "source": []
    },
    {
      "cell_type": "code",
      "execution_count": null,
      "metadata": {
        "id": "YrMuR6MlLTZi"
      },
      "outputs": [],
      "source": []
    },
    {
      "cell_type": "markdown",
      "metadata": {
        "id": "rIjn0tM_VQHh"
      },
      "source": [
        "## 2.2 Profiler types"
      ]
    },
    {
      "cell_type": "markdown",
      "metadata": {
        "id": "BfXJ024GVWAc"
      },
      "source": [
        "In this section of the lab, we will be working in particular with profilers in the Python language. In general, there are at least two types of profilers in python. They are deterministic and statistical profiling. The differences are as follows:\n",
        "\n",
        "**Deterministic profiling**\n",
        "\n",
        "Deterministic profilers monitors all function calls, function returns and exception events. Timings are made for every single one of this events.\n",
        "\n",
        "**Statistical profiling**\n",
        "\n",
        "Instead of tracking every event (e.g. call to every function), statistical profilers interrupts the application periodically and samples the effective instruction pointer. These are analyzed next to estimate where the application is spending its time in.\n",
        "\n",
        "*source: https://docs.python.org/2.0/lib/Deterministic_Profiling.html*\n",
        "\n",
        "Typically deterministic profilers cause huge overheads as every single event is instrumented. However naturally it provides high granularity and accuracy of the data generated."
      ]
    },
    {
      "cell_type": "markdown",
      "metadata": {
        "id": "oE60MJ99LmU7"
      },
      "source": [
        "## 2.3 Profiling Time"
      ]
    },
    {
      "cell_type": "markdown",
      "metadata": {
        "id": "fJsnx8u3V2mc"
      },
      "source": [
        "We will be using two functions to measure time. The first is via the time library, using either the perf_counter module or just simply using the default_timer() function to get the current time. To illustrate this, let's use our favourite sorting algorithm, insertion sort."
      ]
    },
    {
      "cell_type": "code",
      "execution_count": 2,
      "metadata": {
        "id": "sbuSrBpDWqaT"
      },
      "outputs": [],
      "source": [
        "def insertion_sort(arr):\n",
        "  for i in range(1, len(arr)):\n",
        "    curr_val = arr[i]\n",
        "    curr_index = i\n",
        "    while curr_index > 0 and arr[curr_index-1] > curr_val:\n",
        "      arr[curr_index] = arr[curr_index-1]\n",
        "      curr_index -= 1\n",
        "\n",
        "    arr[curr_index] = curr_val"
      ]
    },
    {
      "cell_type": "code",
      "execution_count": 3,
      "metadata": {
        "id": "5YN-j_R2YCCW"
      },
      "outputs": [],
      "source": [
        "import random\n",
        "\n",
        "array = []\n",
        "def init_random_array(array_size):\n",
        "  global array\n",
        "\n",
        "  array = []\n",
        "  random.seed(3102)\n",
        "\n",
        "  for i in range(array_size):\n",
        "      array.append(random.randint(0, array_size))\n",
        "  return (array)"
      ]
    },
    {
      "cell_type": "markdown",
      "metadata": {
        "id": "9SIeiSSJYhtI"
      },
      "source": [
        "### 2.3.1 time.perf_counter\n",
        "\n",
        "Let's find out how long insertion sort takes on these numbers using time.perf_counter."
      ]
    },
    {
      "cell_type": "code",
      "execution_count": 4,
      "metadata": {
        "id": "Wqt9ow-bXqzW"
      },
      "outputs": [
        {
          "name": "stdout",
          "output_type": "stream",
          "text": [
            "0.032610900001600385\n",
            "[0, 1, 1, 2, 3, 3, 4, 8, 9, 10]\n"
          ]
        }
      ],
      "source": [
        "from time import perf_counter\n",
        "\n",
        "init_random_array(1000)\n",
        "\n",
        "start = perf_counter()\n",
        "insertion_sort(array)\n",
        "duration = perf_counter() - start\n",
        "print(duration)\n",
        "print(array[:10])"
      ]
    },
    {
      "cell_type": "markdown",
      "metadata": {
        "id": "6AlxPna6aHdB"
      },
      "source": [
        "### 2.3.2 timeit\n",
        "\n",
        "Another way (and some may argue a better way) is to use the timeit function. This allows us to measure how long a function takes to execute, when it is running many iterations."
      ]
    },
    {
      "cell_type": "code",
      "execution_count": 5,
      "metadata": {
        "id": "MbxUl8dPajq8"
      },
      "outputs": [
        {
          "data": {
            "text/plain": [
              "0.04126689999247901"
            ]
          },
          "execution_count": 5,
          "metadata": {},
          "output_type": "execute_result"
        }
      ],
      "source": [
        "from timeit import timeit\n",
        "\n",
        "init_random_array(1000)\n",
        "timeit(\"insertion_sort(array)\", 'from __main__ import insertion_sort, array', number=1)\n"
      ]
    },
    {
      "cell_type": "markdown",
      "metadata": {
        "id": "TCEvdHPkeLpM"
      },
      "source": [
        "Let's now compare insertion sort with merge sort."
      ]
    },
    {
      "cell_type": "code",
      "execution_count": 6,
      "metadata": {
        "id": "jsAnK0C7cRzt"
      },
      "outputs": [],
      "source": [
        "def merge_sort(array, left_index, right_index):\n",
        "    if left_index >= right_index:\n",
        "        return\n",
        "\n",
        "    middle = (left_index + right_index)//2\n",
        "    merge_sort(array, left_index, middle)\n",
        "    merge_sort(array, middle + 1, right_index)\n",
        "    merge(array, left_index, right_index, middle)\n",
        "\n",
        "def merge(array, left_index, right_index, middle):\n",
        "    # Make copies of both arrays we're trying to merge\n",
        "\n",
        "    # The second parameter is non-inclusive, so we have to increase by 1\n",
        "    left_copy = array[left_index:middle + 1]\n",
        "    right_copy = array[middle+1:right_index+1]\n",
        "\n",
        "    # Initial values for variables that we use to keep\n",
        "    # track of where we are in each array\n",
        "    left_copy_index = 0\n",
        "    right_copy_index = 0\n",
        "    sorted_index = left_index\n",
        "\n",
        "    # Go through both copies until we run out of elements in one\n",
        "    while left_copy_index < len(left_copy) and right_copy_index < len(right_copy):\n",
        "\n",
        "        # If our left_copy has the smaller element, put it in the sorted\n",
        "        # part and then move forward in left_copy (by increasing the pointer)\n",
        "        if left_copy[left_copy_index] <= right_copy[right_copy_index]:\n",
        "            array[sorted_index] = left_copy[left_copy_index]\n",
        "            left_copy_index = left_copy_index + 1\n",
        "        # Opposite from above\n",
        "        else:\n",
        "            array[sorted_index] = right_copy[right_copy_index]\n",
        "            right_copy_index = right_copy_index + 1\n",
        "\n",
        "        # Regardless of where we got our element from\n",
        "        # move forward in the sorted part\n",
        "        sorted_index = sorted_index + 1\n",
        "\n",
        "    # We ran out of elements either in left_copy or right_copy\n",
        "    # so we will go through the remaining elements and add them\n",
        "    while left_copy_index < len(left_copy):\n",
        "        array[sorted_index] = left_copy[left_copy_index]\n",
        "        left_copy_index = left_copy_index + 1\n",
        "        sorted_index = sorted_index + 1\n",
        "\n",
        "    while right_copy_index < len(right_copy):\n",
        "        array[sorted_index] = right_copy[right_copy_index]\n",
        "        right_copy_index = right_copy_index + 1\n",
        "        sorted_index = sorted_index + 1\n",
        "\n",
        "# credits: https://stackabuse.com/merge-sort-in-python/"
      ]
    },
    {
      "cell_type": "code",
      "execution_count": 7,
      "metadata": {
        "id": "9OuAomV-e5Rf"
      },
      "outputs": [
        {
          "data": {
            "text/plain": [
              "0.0033961000008275732"
            ]
          },
          "execution_count": 7,
          "metadata": {},
          "output_type": "execute_result"
        }
      ],
      "source": [
        "init_random_array(1000)\n",
        "timeit(\"merge_sort(array, 0, len(array) - 1)\", 'from __main__ import merge_sort, array', number=1)"
      ]
    },
    {
      "cell_type": "markdown",
      "metadata": {
        "id": "26fLMHlycGUk"
      },
      "source": [
        "### 2.3.3 cProfile"
      ]
    },
    {
      "cell_type": "markdown",
      "metadata": {
        "id": "TbuWFOHQcOEG"
      },
      "source": [
        "Let's first look at a simple iterative example. Assume that we have 5 functions, and they are related to each other in the following manner:\n",
        "\n",
        "```\n",
        "func_a -> func_b (1000 times) -> func_e (17000 times)\n",
        "       -> func_c (1000 times) -> func_e (15000 times)\n",
        "```"
      ]
    },
    {
      "cell_type": "code",
      "execution_count": 8,
      "metadata": {
        "id": "wCugENzicQ5O"
      },
      "outputs": [
        {
          "name": "stdout",
          "output_type": "stream",
          "text": [
            "1.2257314000162296\n"
          ]
        }
      ],
      "source": [
        "import timeit\n",
        "\n",
        "tic = timeit.default_timer();\n",
        "\n",
        "def func_a():\n",
        "  for i in range(0,1000):\n",
        "    func_b()\n",
        "    func_c()\n",
        "\n",
        "def func_b():\n",
        "  for i in range(0,17000):\n",
        "    func_e()\n",
        "\n",
        "def func_c():\n",
        "  for i in range(0,15000):\n",
        "    func_e()\n",
        "\n",
        "def func_e():\n",
        "  return\n",
        "\n",
        "func_a()\n",
        "toc = timeit.default_timer();\n",
        "print(f\"{toc-tic}\")"
      ]
    },
    {
      "cell_type": "markdown",
      "metadata": {
        "id": "bu6UoSkpceLu"
      },
      "source": [
        "If we were to run the code above, the time taken is within the range of 2 to 3 seconds. Let's now try to profile the code with the cProfile module. Using the magic %% operator, we are able to write the cell contents to the file in our google cloud server."
      ]
    },
    {
      "cell_type": "code",
      "execution_count": 9,
      "metadata": {
        "id": "YSFUpXEVciab"
      },
      "outputs": [
        {
          "name": "stdout",
          "output_type": "stream",
          "text": [
            "Writing multiple_calls.py\n"
          ]
        }
      ],
      "source": [
        "%%writefile multiple_calls.py\n",
        "\n",
        "def func_a():\n",
        "  for i in range(0,1000):\n",
        "    func_b()\n",
        "    func_c()\n",
        "\n",
        "def func_b():\n",
        "  for i in range(0,17000):\n",
        "    func_e()\n",
        "\n",
        "def func_c():\n",
        "  for i in range(0,15000):\n",
        "    func_e()\n",
        "\n",
        "def func_e():\n",
        "  return\n",
        "\n",
        "func_a()"
      ]
    },
    {
      "cell_type": "markdown",
      "metadata": {
        "id": "sPPmbCkAcgEM"
      },
      "source": [
        "And now the functions can be profiled with the following line:"
      ]
    },
    {
      "cell_type": "code",
      "execution_count": 11,
      "metadata": {
        "id": "HC1SR_DBcuO-"
      },
      "outputs": [
        {
          "name": "stdout",
          "output_type": "stream",
          "text": [
            "         32002004 function calls in 6.544 seconds\n",
            "\n",
            "   Ordered by: cumulative time\n",
            "\n",
            "   ncalls  tottime  percall  cumtime  percall filename:lineno(function)\n",
            "        1    0.000    0.000    6.544    6.544 {built-in method builtins.exec}\n",
            "        1    0.000    0.000    6.544    6.544 multiple_calls.py:1(<module>)\n",
            "        1    0.002    0.002    6.544    6.544 multiple_calls.py:2(func_a)\n",
            "     1000    2.367    0.002    3.484    0.003 multiple_calls.py:7(func_b)\n",
            "     1000    2.083    0.002    3.058    0.003 multiple_calls.py:11(func_c)\n",
            " 32000000    2.092    0.000    2.092    0.000 multiple_calls.py:15(func_e)\n",
            "        1    0.000    0.000    0.000    0.000 {method 'disable' of '_lsprof.Profiler' objects}\n",
            "\n",
            "\n"
          ]
        }
      ],
      "source": [
        "!python -m cProfile multiple_calls.py"
      ]
    },
    {
      "cell_type": "markdown",
      "metadata": {
        "id": "VjxG02qdczWt"
      },
      "source": [
        "We can sort it with the -s option."
      ]
    },
    {
      "cell_type": "code",
      "execution_count": null,
      "metadata": {
        "id": "o-1XJT4oc1qB"
      },
      "outputs": [],
      "source": []
    },
    {
      "cell_type": "markdown",
      "metadata": {
        "id": "iBdHhsyyc4Mw"
      },
      "source": [
        "Notice that the execution time increases almost three times. But here you can see clearly the various calls being made, total time being spent as well as the cummulative time. The column headings are:\n",
        "\n",
        "**ncalls**\n",
        "Total number of calls.\n",
        "\n",
        "**tottime**\n",
        "Total time spent in the given function (and excluding time made in calls to sub-functions).\n",
        "\n",
        "**percall**\n",
        "tottime divided by ncalls\n",
        "\n",
        "**cumtime**\n",
        "Cumulative time spent in this and all subfunctions (from invocation till exit).\n",
        "\n",
        "**percall**\n",
        "cumtime divided by primitive calls\n",
        "\n",
        "**filename:lineno(function)**\n",
        "Line number of the function\n",
        "\n",
        "*Additional options can be seen here: https://docs.python.org/3.7/library/profile.html*\n",
        "\n",
        "\n",
        "Let's try to visualize these calls. We first install the necessary packages:"
      ]
    },
    {
      "cell_type": "code",
      "execution_count": 12,
      "metadata": {
        "id": "yDR60Pquc7y0"
      },
      "outputs": [
        {
          "name": "stdout",
          "output_type": "stream",
          "text": [
            "Collecting gprof2dot\n",
            "  Downloading gprof2dot-2024.6.6-py2.py3-none-any.whl.metadata (16 kB)\n",
            "Downloading gprof2dot-2024.6.6-py2.py3-none-any.whl (34 kB)\n",
            "Installing collected packages: gprof2dot\n",
            "Successfully installed gprof2dot-2024.6.6\n"
          ]
        },
        {
          "name": "stderr",
          "output_type": "stream",
          "text": [
            "\n",
            "[notice] A new release of pip is available: 24.1.1 -> 24.2\n",
            "[notice] To update, run: python.exe -m pip install --upgrade pip\n"
          ]
        }
      ],
      "source": [
        "!pip install gprof2dot"
      ]
    },
    {
      "cell_type": "markdown",
      "metadata": {
        "id": "wVTm1FdZc-il"
      },
      "source": [
        "Next we generate the output files in the following manner. Notice that the files output.png and output.pstats are generated on the folder structure on the left."
      ]
    },
    {
      "cell_type": "code",
      "execution_count": 13,
      "metadata": {
        "id": "mfUwz9h4dBDZ"
      },
      "outputs": [
        {
          "name": "stderr",
          "output_type": "stream",
          "text": [
            "'dot' is not recognized as an internal or external command,\n",
            "operable program or batch file.\n"
          ]
        }
      ],
      "source": [
        "!python -m cProfile -o output.pstats multiple_calls.py\n",
        "!gprof2dot -f pstats output.pstats | dot -Tpng -o output.png"
      ]
    },
    {
      "cell_type": "code",
      "execution_count": null,
      "metadata": {
        "id": "IZ8iduF2dCDC"
      },
      "outputs": [],
      "source": []
    },
    {
      "cell_type": "markdown",
      "metadata": {
        "id": "mcJ0ZFgmdDQX"
      },
      "source": [
        "The following line displays the output image on your notebook. You can see that it corresponds to the original call tree up above."
      ]
    },
    {
      "cell_type": "code",
      "execution_count": 31,
      "metadata": {
        "id": "ArlBbejudHW5"
      },
      "outputs": [
        {
          "ename": "ValueError",
          "evalue": "Cannot embed the 'pstats' image format",
          "output_type": "error",
          "traceback": [
            "\u001b[1;31m---------------------------------------------------------------------------\u001b[0m",
            "\u001b[1;31mValueError\u001b[0m                                Traceback (most recent call last)",
            "Cell \u001b[1;32mIn[31], line 2\u001b[0m\n\u001b[0;32m      1\u001b[0m \u001b[38;5;28;01mfrom\u001b[39;00m \u001b[38;5;21;01mIPython\u001b[39;00m\u001b[38;5;21;01m.\u001b[39;00m\u001b[38;5;21;01mdisplay\u001b[39;00m \u001b[38;5;28;01mimport\u001b[39;00m Image\n\u001b[1;32m----> 2\u001b[0m \u001b[43mImage\u001b[49m\u001b[43m(\u001b[49m\u001b[43mfilename\u001b[49m\u001b[38;5;241;43m=\u001b[39;49m\u001b[38;5;124;43m'\u001b[39;49m\u001b[38;5;124;43moutput.pstats\u001b[39;49m\u001b[38;5;124;43m'\u001b[39;49m\u001b[43m)\u001b[49m\n",
            "File \u001b[1;32m~\\AppData\\Roaming\\Python\\Python312\\site-packages\\IPython\\core\\display.py:961\u001b[0m, in \u001b[0;36mImage.__init__\u001b[1;34m(self, data, url, filename, format, embed, width, height, retina, unconfined, metadata, alt)\u001b[0m\n\u001b[0;32m    958\u001b[0m \u001b[38;5;28mself\u001b[39m\u001b[38;5;241m.\u001b[39membed \u001b[38;5;241m=\u001b[39m embed \u001b[38;5;28;01mif\u001b[39;00m embed \u001b[38;5;129;01mis\u001b[39;00m \u001b[38;5;129;01mnot\u001b[39;00m \u001b[38;5;28;01mNone\u001b[39;00m \u001b[38;5;28;01melse\u001b[39;00m (url \u001b[38;5;129;01mis\u001b[39;00m \u001b[38;5;28;01mNone\u001b[39;00m)\n\u001b[0;32m    960\u001b[0m \u001b[38;5;28;01mif\u001b[39;00m \u001b[38;5;28mself\u001b[39m\u001b[38;5;241m.\u001b[39membed \u001b[38;5;129;01mand\u001b[39;00m \u001b[38;5;28mself\u001b[39m\u001b[38;5;241m.\u001b[39mformat \u001b[38;5;129;01mnot\u001b[39;00m \u001b[38;5;129;01min\u001b[39;00m \u001b[38;5;28mself\u001b[39m\u001b[38;5;241m.\u001b[39m_ACCEPTABLE_EMBEDDINGS:\n\u001b[1;32m--> 961\u001b[0m     \u001b[38;5;28;01mraise\u001b[39;00m \u001b[38;5;167;01mValueError\u001b[39;00m(\u001b[38;5;124m\"\u001b[39m\u001b[38;5;124mCannot embed the \u001b[39m\u001b[38;5;124m'\u001b[39m\u001b[38;5;132;01m%s\u001b[39;00m\u001b[38;5;124m'\u001b[39m\u001b[38;5;124m image format\u001b[39m\u001b[38;5;124m\"\u001b[39m \u001b[38;5;241m%\u001b[39m (\u001b[38;5;28mself\u001b[39m\u001b[38;5;241m.\u001b[39mformat))\n\u001b[0;32m    962\u001b[0m \u001b[38;5;28;01mif\u001b[39;00m \u001b[38;5;28mself\u001b[39m\u001b[38;5;241m.\u001b[39membed:\n\u001b[0;32m    963\u001b[0m     \u001b[38;5;28mself\u001b[39m\u001b[38;5;241m.\u001b[39m_mimetype \u001b[38;5;241m=\u001b[39m \u001b[38;5;28mself\u001b[39m\u001b[38;5;241m.\u001b[39m_MIMETYPES\u001b[38;5;241m.\u001b[39mget(\u001b[38;5;28mself\u001b[39m\u001b[38;5;241m.\u001b[39mformat)\n",
            "\u001b[1;31mValueError\u001b[0m: Cannot embed the 'pstats' image format"
          ]
        }
      ],
      "source": [
        "from IPython.display import Image\n",
        "Image(filename='output.pstats')\n",
        "\n"
      ]
    },
    {
      "cell_type": "markdown",
      "metadata": {
        "id": "crCAwvHGdDTB"
      },
      "source": [
        "Now let's try to carry out this analysis on our favourite fibonacci number recursive function, and see if there is a way to optimize it. First we find out what the execution time is when n is equals to 10."
      ]
    },
    {
      "cell_type": "code",
      "execution_count": 16,
      "metadata": {
        "id": "8IYtoRjZdQkn"
      },
      "outputs": [
        {
          "name": "stdout",
          "output_type": "stream",
          "text": [
            "5702887 1.3407636000192724\n"
          ]
        }
      ],
      "source": [
        "tic = timeit.default_timer();\n",
        "fib_num = 34\n",
        "def  fib(n):\n",
        "    if n == 0: return 0\n",
        "    if n == 1: return 1\n",
        "    return fib(n-1) + fib(n-2)\n",
        "\n",
        "print(f\"{fib(fib_num)} {timeit.default_timer() - tic}\")"
      ]
    },
    {
      "cell_type": "markdown",
      "metadata": {
        "id": "NawX07NSdVeh"
      },
      "source": [
        "Let's try to do the profiling here from a module. For this recursive function, it's clearer to use the cProfile as a module rather than from the command line."
      ]
    },
    {
      "cell_type": "code",
      "execution_count": 17,
      "metadata": {
        "id": "8hZuAxNvdYJG"
      },
      "outputs": [
        {
          "name": "stdout",
          "output_type": "stream",
          "text": [
            "5702887 4.330191899993224\n",
            "         18455201 function calls (267 primitive calls) in 4.331 seconds\n",
            "\n",
            "   Ordered by: standard name\n",
            "\n",
            "   ncalls  tottime  percall  cumtime  percall filename:lineno(function)\n",
            "18454929/1    4.329    0.000    4.330    4.330 178620101.py:7(fib)\n",
            "        1    0.000    0.000    0.001    0.001 <decorator-gen-17>:1(writeout_cache)\n",
            "        1    0.000    0.000    0.000    0.000 <frozen abc>:121(__subclasscheck__)\n",
            "        1    0.000    0.000    0.000    0.000 <frozen importlib._bootstrap>:1390(_handle_fromlist)\n",
            "        1    0.000    0.000    0.000    0.000 attrsettr.py:43(__getattr__)\n",
            "        1    0.000    0.000    0.000    0.000 attrsettr.py:66(_get_attr_opt)\n",
            "        1    0.000    0.000    0.000    0.000 base_events.py:1903(_timer_handle_cancelled)\n",
            "        2    0.000    0.000    0.000    0.000 base_events.py:1908(_run_once)\n",
            "        4    0.000    0.000    0.000    0.000 base_events.py:2003(get_debug)\n",
            "        1    0.000    0.000    0.000    0.000 base_events.py:446(create_future)\n",
            "        2    0.000    0.000    0.000    0.000 base_events.py:538(_check_closed)\n",
            "        5    0.000    0.000    0.000    0.000 base_events.py:732(time)\n",
            "        1    0.000    0.000    0.000    0.000 base_events.py:741(call_later)\n",
            "        1    0.000    0.000    0.000    0.000 base_events.py:765(call_at)\n",
            "        1    0.000    0.000    0.000    0.000 base_events.py:783(call_soon)\n",
            "        1    0.000    0.000    0.000    0.000 base_events.py:812(_call_soon)\n",
            "        5    0.000    0.000    0.000    0.000 enum.py:1116(__new__)\n",
            "        1    0.000    0.000    0.000    0.000 enum.py:1531(__or__)\n",
            "        2    0.000    0.000    0.000    0.000 enum.py:1541(__and__)\n",
            "        5    0.000    0.000    0.000    0.000 enum.py:713(__call__)\n",
            "        1    0.000    0.000    0.000    0.000 events.py:111(__init__)\n",
            "        1    0.000    0.000    0.000    0.000 events.py:155(cancel)\n",
            "        2    0.000    0.000    0.000    0.000 events.py:36(__init__)\n",
            "        1    0.000    0.000    0.000    0.000 events.py:72(cancel)\n",
            "        2    0.000    0.000    0.000    0.000 events.py:86(_run)\n",
            "        1    0.000    0.000    0.000    0.000 futures.py:311(_set_result_unless_cancelled)\n",
            "        1    0.000    0.000    0.001    0.001 history.py:55(only_when_enabled)\n",
            "        1    0.000    0.000    0.000    0.000 history.py:833(_writeout_input_cache)\n",
            "        1    0.000    0.000    0.000    0.000 history.py:839(_writeout_output_cache)\n",
            "        1    0.000    0.000    0.001    0.001 history.py:845(writeout_cache)\n",
            "        1    0.000    0.000    0.000    0.000 iostream.py:118(_run_event_pipe_gc)\n",
            "        1    0.000    0.000    0.000    0.000 iostream.py:127(_event_pipe_gc)\n",
            "        1    0.000    0.000    0.000    0.000 iostream.py:138(_event_pipe)\n",
            "        1    0.000    0.000    0.000    0.000 iostream.py:157(_handle_event)\n",
            "        1    0.000    0.000    0.000    0.000 iostream.py:259(schedule)\n",
            "        2    0.000    0.000    0.000    0.000 iostream.py:505(parent_header)\n",
            "        2    0.000    0.000    0.000    0.000 iostream.py:550(_is_master_process)\n",
            "        2    0.000    0.000    0.000    0.000 iostream.py:577(_schedule_flush)\n",
            "        2    0.000    0.000    0.000    0.000 iostream.py:655(write)\n",
            "        1    0.000    0.000    0.000    0.000 queue.py:209(_qsize)\n",
            "        1    0.000    0.000    0.000    0.000 queue.py:97(empty)\n",
            "        2    0.000    0.000    0.000    0.000 selector_events.py:750(_process_events)\n",
            "        2    0.000    0.000    0.000    0.000 selectors.py:313(_select)\n",
            "        2    0.000    0.000    0.000    0.000 selectors.py:319(select)\n",
            "        1    0.000    0.000    0.000    0.000 socket.py:626(send)\n",
            "        2    0.000    0.000    0.000    0.000 tasks.py:653(sleep)\n",
            "        4    0.000    0.000    0.000    0.000 threading.py:1153(_wait_for_tstate_lock)\n",
            "        4    0.000    0.000    0.000    0.000 threading.py:1220(is_alive)\n",
            "        2    0.000    0.000    0.000    0.000 threading.py:299(__enter__)\n",
            "        2    0.000    0.000    0.000    0.000 threading.py:302(__exit__)\n",
            "        1    0.000    0.000    0.000    0.000 threading.py:308(_release_save)\n",
            "        1    0.000    0.000    0.000    0.000 threading.py:311(_acquire_restore)\n",
            "        1    0.000    0.000    0.000    0.000 threading.py:314(_is_owned)\n",
            "        4    0.000    0.000    0.000    0.000 threading.py:601(is_set)\n",
            "        1    0.000    0.000    0.000    0.000 threading.py:627(clear)\n",
            "        1    0.000    0.000    0.000    0.000 traitlets.py:1512(_notify_trait)\n",
            "        1    0.000    0.000    0.000    0.000 traitlets.py:1523(notify_change)\n",
            "        1    0.000    0.000    0.000    0.000 traitlets.py:1527(_notify_observers)\n",
            "        2    0.000    0.000    0.000    0.000 traitlets.py:2304(validate)\n",
            "        2    0.000    0.000    0.000    0.000 traitlets.py:3474(validate)\n",
            "        2    0.000    0.000    0.000    0.000 traitlets.py:3486(validate_elements)\n",
            "        2    0.000    0.000    0.000    0.000 traitlets.py:3624(validate_elements)\n",
            "        2    0.000    0.000    0.000    0.000 traitlets.py:3631(set)\n",
            "        6    0.000    0.000    0.000    0.000 traitlets.py:629(get)\n",
            "        6    0.000    0.000    0.000    0.000 traitlets.py:676(__get__)\n",
            "        2    0.000    0.000    0.000    0.000 traitlets.py:689(set)\n",
            "        2    0.000    0.000    0.000    0.000 traitlets.py:708(__set__)\n",
            "        2    0.000    0.000    0.000    0.000 traitlets.py:718(_validate)\n",
            "        2    0.000    0.000    0.000    0.000 traitlets.py:727(_cross_validate)\n",
            "        1    0.000    0.000    0.000    0.000 typing.py:1175(__instancecheck__)\n",
            "        2    0.000    0.000    0.000    0.000 typing.py:1239(__hash__)\n",
            "        1    0.000    0.000    0.000    0.000 typing.py:1446(__subclasscheck__)\n",
            "       23    0.000    0.000    0.000    0.000 typing.py:2132(cast)\n",
            "        3    0.000    0.000    0.000    0.000 typing.py:378(inner)\n",
            "        1    0.000    0.000    0.000    0.000 tz.py:74(utcoffset)\n",
            "        1    0.000    0.000    0.000    0.000 zmqstream.py:539(receiving)\n",
            "        1    0.000    0.000    0.000    0.000 zmqstream.py:543(sending)\n",
            "        1    0.000    0.000    0.000    0.000 zmqstream.py:557(_run_callback)\n",
            "        1    0.000    0.000    0.000    0.000 zmqstream.py:664(_rebuild_io_state)\n",
            "        1    0.000    0.000    0.000    0.000 zmqstream.py:687(_update_handler)\n",
            "        1    0.000    0.000    0.000    0.000 {built-in method _abc._abc_subclasscheck}\n",
            "        1    0.000    0.000    0.000    0.000 {built-in method _asyncio.get_running_loop}\n",
            "        1    0.000    0.000    0.000    0.000 {built-in method _contextvars.copy_context}\n",
            "        1    0.000    0.000    0.000    0.000 {built-in method _heapq.heappop}\n",
            "        1    0.000    0.000    0.000    0.000 {built-in method _heapq.heappush}\n",
            "        1    0.000    0.000    0.000    0.000 {built-in method _thread.allocate_lock}\n",
            "        1    0.000    0.000    0.000    0.000 {built-in method builtins.getattr}\n",
            "        6    0.000    0.000    0.000    0.000 {built-in method builtins.hasattr}\n",
            "        2    0.000    0.000    0.000    0.000 {built-in method builtins.hash}\n",
            "    19/17    0.000    0.000    0.000    0.000 {built-in method builtins.isinstance}\n",
            "        1    0.000    0.000    0.000    0.000 {built-in method builtins.issubclass}\n",
            "       11    0.000    0.000    0.000    0.000 {built-in method builtins.len}\n",
            "        5    0.000    0.000    0.000    0.000 {built-in method builtins.max}\n",
            "        2    0.000    0.000    0.000    0.000 {built-in method builtins.min}\n",
            "        1    0.000    0.000    0.000    0.000 {built-in method builtins.print}\n",
            "        2    0.000    0.000    0.000    0.000 {built-in method nt.getpid}\n",
            "        2    0.000    0.000    0.000    0.000 {built-in method select.select}\n",
            "        5    0.000    0.000    0.000    0.000 {built-in method time.monotonic}\n",
            "        1    0.000    0.000    0.000    0.000 {built-in method time.perf_counter}\n",
            "        2    0.000    0.000    0.000    0.000 {method '__enter__' of '_thread.lock' objects}\n",
            "        2    0.000    0.000    0.000    0.000 {method '__exit__' of '_thread.RLock' objects}\n",
            "        6    0.000    0.000    0.000    0.000 {method '__exit__' of '_thread.lock' objects}\n",
            "        2    0.000    0.000    0.000    0.000 {method '__exit__' of 'sqlite3.Connection' objects}\n",
            "      7/3    0.000    0.000    0.000    0.000 {method 'acquire' of '_thread.lock' objects}\n",
            "        4    0.000    0.000    0.000    0.000 {method 'append' of 'collections.deque' objects}\n",
            "        1    0.000    0.000    0.000    0.000 {method 'cancelled' of '_asyncio.Future' objects}\n",
            "        1    0.000    0.000    0.000    0.000 {method 'disable' of '_lsprof.Profiler' objects}\n",
            "        1    0.000    0.000    0.000    0.000 {method 'execute' of 'sqlite3.Connection' objects}\n",
            "        2    0.000    0.000    0.000    0.000 {method 'extend' of 'list' objects}\n",
            "        2    0.000    0.000    0.000    0.000 {method 'get' of '_contextvars.ContextVar' objects}\n",
            "        4    0.000    0.000    0.000    0.000 {method 'get' of 'dict' objects}\n",
            "        3    0.000    0.000    0.000    0.000 {method 'items' of 'dict' objects}\n",
            "        2    0.000    0.000    0.000    0.000 {method 'popleft' of 'collections.deque' objects}\n",
            "        1    0.000    0.000    0.000    0.000 {method 'release' of '_thread.lock' objects}\n",
            "        2    0.000    0.000    0.000    0.000 {method 'run' of '_contextvars.Context' objects}\n",
            "        1    0.000    0.000    0.000    0.000 {method 'set_result' of '_asyncio.Future' objects}\n",
            "        1    0.000    0.000    0.000    0.000 {method 'upper' of 'str' objects}\n",
            "        2    0.000    0.000    0.000    0.000 {method 'write' of '_io.StringIO' objects}\n",
            "\n",
            "\n"
          ]
        }
      ],
      "source": [
        "import cProfile\n",
        "import timeit\n",
        "tic = timeit.default_timer();\n",
        "\n",
        "fib_num = 34\n",
        "def  fib(n):\n",
        "    if n == 0: return 0\n",
        "    if n == 1: return 1\n",
        "    return fib(n-1) + fib(n-2)\n",
        "\n",
        "\n",
        "cProfile.run('print(f\\\"{fib(fib_num)} {timeit.default_timer() - tic}\\\")')"
      ]
    },
    {
      "cell_type": "markdown",
      "metadata": {
        "id": "2Icn25BAdefB"
      },
      "source": [
        "Notice that the execution time has almost doubled with such a small example. You can also tell that the recursive call occurs for more than 18454929 times, although the number of primitive calls are just 40. Hence you can deduce that there is room for improvement here. Let's try to carry out some memoization to reduce the number of function calls.\n",
        "\n",
        "We do that by first creating a dictionary and storing the outputs there. If the output is present, we will use the value in the dictionary. Else we will carry out the function call."
      ]
    },
    {
      "cell_type": "code",
      "execution_count": 18,
      "metadata": {
        "id": "W5g3XA-jdjr8"
      },
      "outputs": [
        {
          "name": "stdout",
          "output_type": "stream",
          "text": [
            "5702887\n",
            "None 0.0009761999826878309\n",
            "         127 function calls (93 primitive calls) in 0.001 seconds\n",
            "\n",
            "   Ordered by: standard name\n",
            "\n",
            "   ncalls  tottime  percall  cumtime  percall filename:lineno(function)\n",
            "        1    0.000    0.000    0.000    0.000 3309140176.py:29(fib_driver)\n",
            "     35/1    0.000    0.000    0.000    0.000 3309140176.py:8(fib)\n",
            "        1    0.000    0.000    0.000    0.000 <string>:1(<module>)\n",
            "        1    0.000    0.000    0.000    0.000 iostream.py:138(_event_pipe)\n",
            "        1    0.000    0.000    0.000    0.000 iostream.py:259(schedule)\n",
            "        4    0.000    0.000    0.000    0.000 iostream.py:505(parent_header)\n",
            "        4    0.000    0.000    0.000    0.000 iostream.py:550(_is_master_process)\n",
            "        4    0.000    0.000    0.000    0.000 iostream.py:577(_schedule_flush)\n",
            "        4    0.000    0.000    0.000    0.000 iostream.py:655(write)\n",
            "        1    0.000    0.000    0.000    0.000 socket.py:626(send)\n",
            "        1    0.000    0.000    0.000    0.000 threading.py:1153(_wait_for_tstate_lock)\n",
            "        1    0.000    0.000    0.000    0.000 threading.py:1220(is_alive)\n",
            "        1    0.000    0.000    0.000    0.000 threading.py:601(is_set)\n",
            "        1    0.000    0.000    0.000    0.000 tz.py:74(utcoffset)\n",
            "        1    0.000    0.000    0.000    0.000 {built-in method builtins.exec}\n",
            "        4    0.000    0.000    0.000    0.000 {built-in method builtins.isinstance}\n",
            "        4    0.000    0.000    0.000    0.000 {built-in method builtins.len}\n",
            "        2    0.000    0.000    0.000    0.000 {built-in method builtins.print}\n",
            "        4    0.000    0.000    0.000    0.000 {built-in method nt.getpid}\n",
            "        1    0.000    0.000    0.000    0.000 {built-in method time.perf_counter}\n",
            "        4    0.000    0.000    0.000    0.000 {method '__exit__' of '_thread.RLock' objects}\n",
            "        1    0.000    0.000    0.000    0.000 {method 'acquire' of '_thread.lock' objects}\n",
            "        1    0.000    0.000    0.000    0.000 {method 'append' of 'collections.deque' objects}\n",
            "        1    0.000    0.000    0.000    0.000 {method 'disable' of '_lsprof.Profiler' objects}\n",
            "        4    0.000    0.000    0.000    0.000 {method 'get' of '_contextvars.ContextVar' objects}\n",
            "       32    0.000    0.000    0.000    0.000 {method 'get' of 'dict' objects}\n",
            "        4    0.000    0.000    0.000    0.000 {method 'items' of 'dict' objects}\n",
            "        4    0.000    0.000    0.000    0.000 {method 'write' of '_io.StringIO' objects}\n",
            "\n",
            "\n"
          ]
        }
      ],
      "source": [
        "import cProfile\n",
        "import timeit\n",
        "\n",
        "tic = timeit.default_timer();\n",
        "\n",
        "fib_num = 34\n",
        "\n",
        "def fib(fib_dict, n):\n",
        "  if n in fib_dict: return fib_dict[n]\n",
        "\n",
        "  if n == 0: return 0\n",
        "  if n == 1: return 1\n",
        "\n",
        "  if (n-1) in fib_dict:\n",
        "    return_1 = fib_dict.get(n-1)\n",
        "  else:\n",
        "    return_1 = fib(fib_dict, n-1)\n",
        "    fib_dict[n-1] = return_1\n",
        "\n",
        "  if (n-2) in fib_dict:\n",
        "    return_2 = fib_dict.get(n-2)\n",
        "  else:\n",
        "    return_2 = fib(fib_dict, n-1)\n",
        "    fib_dict[n-2] = return_2\n",
        "\n",
        "  fib_dict[n] = fib_dict[n-1] + fib_dict[n-2]\n",
        "  return fib_dict[n]\n",
        "\n",
        "def fib_driver(n):\n",
        "  fib_dict = {}\n",
        "  fib(fib_dict, n)\n",
        "  print(fib_dict[n-1])\n",
        "\n",
        "cProfile.run('print(f\\\"{fib_driver(fib_num)} {timeit.default_timer() - tic}\\\")')"
      ]
    },
    {
      "cell_type": "markdown",
      "metadata": {
        "id": "unB0LmfKdosG"
      },
      "source": [
        "You would notice that the number of iterative calls have decreased dramatically to just 35, which in fact makes this recursive function O(n), the same as the iterative version of our fibonacci number generator."
      ]
    },
    {
      "cell_type": "code",
      "execution_count": 19,
      "metadata": {
        "id": "OQlOWObKdyRq"
      },
      "outputs": [
        {
          "name": "stdout",
          "output_type": "stream",
          "text": [
            "9227465 0.00028630002634599805\n",
            "         37 function calls in 0.000 seconds\n",
            "\n",
            "   Ordered by: standard name\n",
            "\n",
            "   ncalls  tottime  percall  cumtime  percall filename:lineno(function)\n",
            "        1    0.000    0.000    0.000    0.000 948140518.py:6(fib_iter)\n",
            "        1    0.000    0.000    0.000    0.000 <string>:1(<module>)\n",
            "        1    0.000    0.000    0.000    0.000 iostream.py:138(_event_pipe)\n",
            "        1    0.000    0.000    0.000    0.000 iostream.py:259(schedule)\n",
            "        2    0.000    0.000    0.000    0.000 iostream.py:505(parent_header)\n",
            "        2    0.000    0.000    0.000    0.000 iostream.py:550(_is_master_process)\n",
            "        2    0.000    0.000    0.000    0.000 iostream.py:577(_schedule_flush)\n",
            "        2    0.000    0.000    0.000    0.000 iostream.py:655(write)\n",
            "        1    0.000    0.000    0.000    0.000 socket.py:626(send)\n",
            "        1    0.000    0.000    0.000    0.000 threading.py:1153(_wait_for_tstate_lock)\n",
            "        1    0.000    0.000    0.000    0.000 threading.py:1220(is_alive)\n",
            "        1    0.000    0.000    0.000    0.000 threading.py:601(is_set)\n",
            "        1    0.000    0.000    0.000    0.000 tz.py:74(utcoffset)\n",
            "        1    0.000    0.000    0.000    0.000 {built-in method builtins.exec}\n",
            "        2    0.000    0.000    0.000    0.000 {built-in method builtins.isinstance}\n",
            "        2    0.000    0.000    0.000    0.000 {built-in method builtins.len}\n",
            "        1    0.000    0.000    0.000    0.000 {built-in method builtins.print}\n",
            "        2    0.000    0.000    0.000    0.000 {built-in method nt.getpid}\n",
            "        1    0.000    0.000    0.000    0.000 {built-in method time.perf_counter}\n",
            "        2    0.000    0.000    0.000    0.000 {method '__exit__' of '_thread.RLock' objects}\n",
            "        1    0.000    0.000    0.000    0.000 {method 'acquire' of '_thread.lock' objects}\n",
            "        1    0.000    0.000    0.000    0.000 {method 'append' of 'collections.deque' objects}\n",
            "        1    0.000    0.000    0.000    0.000 {method 'disable' of '_lsprof.Profiler' objects}\n",
            "        2    0.000    0.000    0.000    0.000 {method 'get' of '_contextvars.ContextVar' objects}\n",
            "        2    0.000    0.000    0.000    0.000 {method 'items' of 'dict' objects}\n",
            "        2    0.000    0.000    0.000    0.000 {method 'write' of '_io.StringIO' objects}\n",
            "\n",
            "\n"
          ]
        }
      ],
      "source": [
        "import cProfile\n",
        "import timeit\n",
        "\n",
        "tic = timeit.default_timer();\n",
        "fib_num = 35\n",
        "def fib_iter(n):\n",
        "    fib_0 = 1\n",
        "    fib_1 = 1\n",
        "    fib_2 = 0\n",
        "    for i in range(2,n):\n",
        "        fib_2 = fib_0 + fib_1\n",
        "        fib_0 = fib_1\n",
        "        fib_1 = fib_2\n",
        "    return fib_2\n",
        "\n",
        "cProfile.run('print(f\\\"{fib_iter(fib_num)} {timeit.default_timer() - tic}\\\")')"
      ]
    },
    {
      "cell_type": "markdown",
      "metadata": {
        "id": "4_ifVwnRdDVr"
      },
      "source": [
        "As you can see, it is in the same order as that of the iterative version we have been working with so far."
      ]
    },
    {
      "cell_type": "markdown",
      "metadata": {
        "id": "3tOsLqQehLeu"
      },
      "source": [
        "### 2.3.4 py-spy"
      ]
    },
    {
      "cell_type": "markdown",
      "metadata": {
        "id": "mQliMgidhO9Z"
      },
      "source": [
        "We will now compare cProfile with a statistical profiler, py-spy."
      ]
    },
    {
      "cell_type": "code",
      "execution_count": 2,
      "metadata": {
        "id": "eW5Ptz_OhXnX"
      },
      "outputs": [
        {
          "name": "stdout",
          "output_type": "stream",
          "text": [
            "Requirement already satisfied: py-spy in c:\\users\\vianiece\\appdata\\local\\programs\\python\\python312\\lib\\site-packages (0.3.14)\n"
          ]
        },
        {
          "name": "stderr",
          "output_type": "stream",
          "text": [
            "\n",
            "[notice] A new release of pip is available: 24.1.1 -> 24.2\n",
            "[notice] To update, run: python.exe -m pip install --upgrade pip\n"
          ]
        }
      ],
      "source": [
        "!pip install py-spy"
      ]
    },
    {
      "cell_type": "markdown",
      "metadata": {
        "id": "x3GmUawxharH"
      },
      "source": [
        "Let's first create a python script which runs for at least 10 seconds."
      ]
    },
    {
      "cell_type": "code",
      "execution_count": 3,
      "metadata": {
        "id": "Pk671ISBhenM"
      },
      "outputs": [
        {
          "name": "stdout",
          "output_type": "stream",
          "text": [
            "Overwriting long_multiple_calls.py\n"
          ]
        }
      ],
      "source": [
        "%%writefile long_multiple_calls.py\n",
        "\n",
        "def func_a():\n",
        "  for i in range(0,1000):\n",
        "    func_b()\n",
        "    func_c()\n",
        "\n",
        "def func_b():\n",
        "  for i in range(0,77000):\n",
        "    func_e()\n",
        "\n",
        "def func_c():\n",
        "  for i in range(0,55000):\n",
        "    func_e()\n",
        "\n",
        "def func_e():\n",
        "  return\n",
        "\n",
        "func_a()"
      ]
    },
    {
      "cell_type": "markdown",
      "metadata": {
        "id": "hIjyfx8ehiiy"
      },
      "source": [
        "What the next line does is to run the function, sampling it at various intervals. In this instance, it is sampled at 100 times per second."
      ]
    },
    {
      "cell_type": "code",
      "execution_count": 5,
      "metadata": {
        "id": "DbmF95LMhm1M"
      },
      "outputs": [
        {
          "name": "stderr",
          "output_type": "stream",
          "text": [
            "Error: Failed to find python version from target process\n"
          ]
        }
      ],
      "source": [
        "!py-spy record -o profile.svg -- python long_multiple_calls.py\n"
      ]
    },
    {
      "cell_type": "code",
      "execution_count": null,
      "metadata": {
        "id": "U6JLpSD-hpZO"
      },
      "outputs": [],
      "source": [
        "from IPython.core.display import SVG\n",
        "SVG(filename='profile.svg')"
      ]
    },
    {
      "cell_type": "markdown",
      "metadata": {
        "id": "LD_lOOYGhsmo"
      },
      "source": [
        "What we see on top is known as a flame graph. We can discuss a bit more on this flame graph.\n",
        "\n",
        "The flame graph is a collection of stack traces and these traces are arranged as column of boxes, where each box represents a function or a stack frame.\n",
        "\n",
        "The y-axis shows the depth and in this case, it is ordered from the top (root) to the bottom (leaf).\n",
        "\n",
        "The x-axis spans the stack trace collection and the ordering is in alphabetical, and not by time.\n",
        "\n",
        "The width of each function box shows the frequency at which that function was present in the stack traces. So in this example, it shows clearly that the bulk of the cummulative time was spent in calling function_b and function_c from function_a.\n",
        "\n",
        "The background colors for each box are chosen purely for asthestic purposes and have no inherent meaning.\n",
        "\n",
        "*source: https://cacm.acm.org/magazines/2016/6/202665-the-flame-graph/fulltext*"
      ]
    },
    {
      "cell_type": "markdown",
      "metadata": {
        "id": "OeacA2Fbhv4z"
      },
      "source": [
        "One of the useful commands is the Top command. Top shows a live view of what functions are taking the most time in your python program. Running py-spy with the top command gives you the following live statistical updates:"
      ]
    },
    {
      "cell_type": "code",
      "execution_count": 49,
      "metadata": {
        "id": "286LKcn0hy9A"
      },
      "outputs": [
        {
          "name": "stderr",
          "output_type": "stream",
          "text": [
            "'pyenv' is not recognized as an internal or external command,\n",
            "operable program or batch file.\n",
            "'pyenv' is not recognized as an internal or external command,\n",
            "operable program or batch file.\n"
          ]
        },
        {
          "name": "stdout",
          "output_type": "stream",
          "text": [
            "Python 3.12.2\n"
          ]
        }
      ],
      "source": []
    },
    {
      "cell_type": "markdown",
      "metadata": {
        "id": "rgimnrszh8V1"
      },
      "source": [
        "Let us compare this with cProfile to see if there is any delta between the two."
      ]
    },
    {
      "cell_type": "code",
      "execution_count": 33,
      "metadata": {
        "id": "kjaFYcX6iAc1"
      },
      "outputs": [
        {
          "name": "stdout",
          "output_type": "stream",
          "text": [
            "         132002004 function calls in 20.957 seconds\n",
            "\n",
            "   Ordered by: internal time\n",
            "\n",
            "   ncalls  tottime  percall  cumtime  percall filename:lineno(function)\n",
            "     1000    8.318    0.008   12.223    0.012 long_multiple_calls.py:7(func_b)\n",
            "132000000    6.694    0.000    6.694    0.000 long_multiple_calls.py:15(func_e)\n",
            "     1000    5.944    0.006    8.734    0.009 long_multiple_calls.py:11(func_c)\n",
            "        1    0.000    0.000   20.957   20.957 long_multiple_calls.py:2(func_a)\n",
            "        1    0.000    0.000    0.000    0.000 {method 'disable' of '_lsprof.Profiler' objects}\n",
            "        1    0.000    0.000   20.957   20.957 {built-in method builtins.exec}\n",
            "        1    0.000    0.000   20.957   20.957 long_multiple_calls.py:1(<module>)\n",
            "\n",
            "\n"
          ]
        }
      ],
      "source": [
        "!python -m cProfile -s tottime long_multiple_calls.py"
      ]
    },
    {
      "cell_type": "markdown",
      "metadata": {
        "id": "xl8sAM8IVrCE"
      },
      "source": [
        "### 2.4 Profiling Memory"
      ]
    },
    {
      "cell_type": "markdown",
      "metadata": {
        "id": "CzsqjO_uV8Ph"
      },
      "source": [
        "We will be showcasing three tools to profile memory. All three tools have their different strengths / weaknesses, and the choice of the tool is dependent on the situation."
      ]
    },
    {
      "cell_type": "markdown",
      "metadata": {
        "id": "TdeF9NegWNGv"
      },
      "source": [
        "### 2.4.1 Memory Profiler"
      ]
    },
    {
      "cell_type": "code",
      "execution_count": 34,
      "metadata": {
        "id": "90rRXbAYjACb"
      },
      "outputs": [
        {
          "name": "stdout",
          "output_type": "stream",
          "text": [
            "Collecting memory_profiler\n",
            "  Downloading memory_profiler-0.61.0-py3-none-any.whl.metadata (20 kB)\n",
            "Requirement already satisfied: psutil in c:\\users\\vianiece\\appdata\\local\\programs\\python\\python312\\lib\\site-packages (from memory_profiler) (6.0.0)\n",
            "Downloading memory_profiler-0.61.0-py3-none-any.whl (31 kB)\n",
            "Installing collected packages: memory_profiler\n",
            "Successfully installed memory_profiler-0.61.0\n"
          ]
        },
        {
          "name": "stderr",
          "output_type": "stream",
          "text": [
            "\n",
            "[notice] A new release of pip is available: 24.1.1 -> 24.2\n",
            "[notice] To update, run: python.exe -m pip install --upgrade pip\n"
          ]
        }
      ],
      "source": [
        "!pip install memory_profiler"
      ]
    },
    {
      "cell_type": "code",
      "execution_count": 35,
      "metadata": {
        "id": "A3r1SOhpf14S"
      },
      "outputs": [],
      "source": [
        "%load_ext memory_profiler"
      ]
    },
    {
      "cell_type": "code",
      "execution_count": 36,
      "metadata": {
        "id": "sXqPibWafjxd"
      },
      "outputs": [
        {
          "name": "stdout",
          "output_type": "stream",
          "text": [
            "Writing insert_sort.py\n"
          ]
        }
      ],
      "source": [
        "%%writefile insert_sort.py\n",
        "\n",
        "import random\n",
        "from memory_profiler import profile\n",
        "\n",
        "array = []\n",
        "def init_random_array(array_size):\n",
        "  global array\n",
        "\n",
        "  array = []\n",
        "  random.seed(3102)\n",
        "\n",
        "  for i in range(array_size):\n",
        "      array.append(random.randint(0, array_size))\n",
        "  return (array)\n",
        "\n",
        "@profile\n",
        "def insertion_sort(arr):\n",
        "  for i in range(1, len(arr)):\n",
        "    curr_val = arr[i]\n",
        "    curr_index = i\n",
        "    while curr_index > 0 and arr[curr_index-1] > curr_val:\n",
        "      arr[curr_index] = arr[curr_index-1]\n",
        "      curr_index -= 1\n",
        "\n",
        "    arr[curr_index] = curr_val\n",
        "\n",
        "init_random_array(1000)\n",
        "insertion_sort(array)"
      ]
    },
    {
      "cell_type": "code",
      "execution_count": 37,
      "metadata": {
        "id": "eVF-2qBtgwbB"
      },
      "outputs": [
        {
          "name": "stdout",
          "output_type": "stream",
          "text": [
            "Filename: c:\\Users\\Vianiece\\Desktop\\ICT3113\\ICT3113\\insert_sort.py\n",
            "\n",
            "Line #    Mem usage    Increment  Occurrences   Line Contents\n",
            "=============================================================\n",
            "    16     52.7 MiB     52.7 MiB           1   @profile\n",
            "    17                                         def insertion_sort(arr):\n",
            "    18     52.7 MiB      0.0 MiB        1000     for i in range(1, len(arr)):\n",
            "    19     52.7 MiB      0.0 MiB         999       curr_val = arr[i]\n",
            "    20     52.7 MiB      0.0 MiB         999       curr_index = i\n",
            "    21     52.7 MiB      0.0 MiB      246605       while curr_index > 0 and arr[curr_index-1] > curr_val:\n",
            "    22     52.7 MiB      0.0 MiB      245606         arr[curr_index] = arr[curr_index-1]\n",
            "    23     52.7 MiB      0.0 MiB      245606         curr_index -= 1\n",
            "    24                                         \n",
            "    25     52.7 MiB      0.0 MiB         999       arr[curr_index] = curr_val\n",
            "\n",
            "\n"
          ]
        }
      ],
      "source": [
        "!python insert_sort.py"
      ]
    },
    {
      "cell_type": "code",
      "execution_count": 38,
      "metadata": {
        "id": "KKkklSL7geQB"
      },
      "outputs": [
        {
          "name": "stdout",
          "output_type": "stream",
          "text": [
            "Writing merge_sort.py\n"
          ]
        }
      ],
      "source": [
        "%%writefile merge_sort.py\n",
        "\n",
        "import random\n",
        "from memory_profiler import profile\n",
        "\n",
        "array = []\n",
        "def init_random_array(array_size):\n",
        "  global array\n",
        "\n",
        "  array = []\n",
        "  random.seed(3102)\n",
        "\n",
        "  for i in range(array_size):\n",
        "      array.append(random.randint(0, array_size))\n",
        "  return (array)\n",
        "\n",
        "@profile\n",
        "def merge_sort(array, left_index, right_index):\n",
        "    if left_index >= right_index:\n",
        "        return\n",
        "\n",
        "    middle = (left_index + right_index)//2\n",
        "    merge_sort(array, left_index, middle)\n",
        "    merge_sort(array, middle + 1, right_index)\n",
        "    merge(array, left_index, right_index, middle)\n",
        "\n",
        "def merge(array, left_index, right_index, middle):\n",
        "    # Make copies of both arrays we're trying to merge\n",
        "\n",
        "    # The second parameter is non-inclusive, so we have to increase by 1\n",
        "    left_copy = array[left_index:middle + 1]\n",
        "    right_copy = array[middle+1:right_index+1]\n",
        "\n",
        "    # Initial values for variables that we use to keep\n",
        "    # track of where we are in each array\n",
        "    left_copy_index = 0\n",
        "    right_copy_index = 0\n",
        "    sorted_index = left_index\n",
        "\n",
        "    # Go through both copies until we run out of elements in one\n",
        "    while left_copy_index < len(left_copy) and right_copy_index < len(right_copy):\n",
        "\n",
        "        # If our left_copy has the smaller element, put it in the sorted\n",
        "        # part and then move forward in left_copy (by increasing the pointer)\n",
        "        if left_copy[left_copy_index] <= right_copy[right_copy_index]:\n",
        "            array[sorted_index] = left_copy[left_copy_index]\n",
        "            left_copy_index = left_copy_index + 1\n",
        "        # Opposite from above\n",
        "        else:\n",
        "            array[sorted_index] = right_copy[right_copy_index]\n",
        "            right_copy_index = right_copy_index + 1\n",
        "\n",
        "        # Regardless of where we got our element from\n",
        "        # move forward in the sorted part\n",
        "        sorted_index = sorted_index + 1\n",
        "\n",
        "    # We ran out of elements either in left_copy or right_copy\n",
        "    # so we will go through the remaining elements and add them\n",
        "    while left_copy_index < len(left_copy):\n",
        "        array[sorted_index] = left_copy[left_copy_index]\n",
        "        left_copy_index = left_copy_index + 1\n",
        "        sorted_index = sorted_index + 1\n",
        "\n",
        "    while right_copy_index < len(right_copy):\n",
        "        array[sorted_index] = right_copy[right_copy_index]\n",
        "        right_copy_index = right_copy_index + 1\n",
        "        sorted_index = sorted_index + 1\n",
        "\n",
        "# credits: https://stackabuse.com/merge-sort-in-python/\n",
        "\n",
        "init_random_array(10)\n",
        "merge_sort(array, 0, len(array)-1)"
      ]
    },
    {
      "cell_type": "code",
      "execution_count": 39,
      "metadata": {
        "id": "3sMAZQ0ghUbp"
      },
      "outputs": [
        {
          "name": "stdout",
          "output_type": "stream",
          "text": [
            "Filename: c:\\Users\\Vianiece\\Desktop\\ICT3113\\ICT3113\\merge_sort.py\n",
            "\n",
            "Line #    Mem usage    Increment  Occurrences   Line Contents\n",
            "=============================================================\n",
            "    16     52.8 MiB     52.8 MiB           1   @profile\n",
            "    17                                         def merge_sort(array, left_index, right_index):\n",
            "    18     52.8 MiB      0.0 MiB           1       if left_index >= right_index:\n",
            "    19     52.8 MiB      0.0 MiB           1           return\n",
            "    20                                         \n",
            "    21                                             middle = (left_index + right_index)//2\n",
            "    22                                             merge_sort(array, left_index, middle)\n",
            "    23                                             merge_sort(array, middle + 1, right_index)\n",
            "    24                                             merge(array, left_index, right_index, middle)\n",
            "\n",
            "\n",
            "Filename: c:\\Users\\Vianiece\\Desktop\\ICT3113\\ICT3113\\merge_sort.py\n",
            "\n",
            "Line #    Mem usage    Increment  Occurrences   Line Contents\n",
            "=============================================================\n",
            "    16     52.8 MiB     52.8 MiB           1   @profile\n",
            "    17                                         def merge_sort(array, left_index, right_index):\n",
            "    18     52.8 MiB      0.0 MiB           1       if left_index >= right_index:\n",
            "    19     52.8 MiB      0.0 MiB           1           return\n",
            "    20                                         \n",
            "    21                                             middle = (left_index + right_index)//2\n",
            "    22                                             merge_sort(array, left_index, middle)\n",
            "    23                                             merge_sort(array, middle + 1, right_index)\n",
            "    24                                             merge(array, left_index, right_index, middle)\n",
            "\n",
            "\n",
            "Filename: c:\\Users\\Vianiece\\Desktop\\ICT3113\\ICT3113\\merge_sort.py\n",
            "\n",
            "Line #    Mem usage    Increment  Occurrences   Line Contents\n",
            "=============================================================\n",
            "    16     52.8 MiB     52.8 MiB           3   @profile\n",
            "    17                                         def merge_sort(array, left_index, right_index):\n",
            "    18     52.8 MiB      0.0 MiB           3       if left_index >= right_index:\n",
            "    19     52.8 MiB      0.0 MiB           2           return\n",
            "    20                                         \n",
            "    21     52.8 MiB      0.0 MiB           1       middle = (left_index + right_index)//2\n",
            "    22     52.8 MiB      0.0 MiB           1       merge_sort(array, left_index, middle)\n",
            "    23     52.8 MiB      0.0 MiB           1       merge_sort(array, middle + 1, right_index)\n",
            "    24     52.8 MiB      0.0 MiB           1       merge(array, left_index, right_index, middle)\n",
            "\n",
            "\n",
            "Filename: c:\\Users\\Vianiece\\Desktop\\ICT3113\\ICT3113\\merge_sort.py\n",
            "\n",
            "Line #    Mem usage    Increment  Occurrences   Line Contents\n",
            "=============================================================\n",
            "    16     52.8 MiB     52.8 MiB           1   @profile\n",
            "    17                                         def merge_sort(array, left_index, right_index):\n",
            "    18     52.8 MiB      0.0 MiB           1       if left_index >= right_index:\n",
            "    19     52.8 MiB      0.0 MiB           1           return\n",
            "    20                                         \n",
            "    21                                             middle = (left_index + right_index)//2\n",
            "    22                                             merge_sort(array, left_index, middle)\n",
            "    23                                             merge_sort(array, middle + 1, right_index)\n",
            "    24                                             merge(array, left_index, right_index, middle)\n",
            "\n",
            "\n",
            "Filename: c:\\Users\\Vianiece\\Desktop\\ICT3113\\ICT3113\\merge_sort.py\n",
            "\n",
            "Line #    Mem usage    Increment  Occurrences   Line Contents\n",
            "=============================================================\n",
            "    16     52.8 MiB     52.8 MiB           5   @profile\n",
            "    17                                         def merge_sort(array, left_index, right_index):\n",
            "    18     52.8 MiB      0.0 MiB           5       if left_index >= right_index:\n",
            "    19     52.8 MiB      0.0 MiB           3           return\n",
            "    20                                         \n",
            "    21     52.8 MiB      0.0 MiB           2       middle = (left_index + right_index)//2\n",
            "    22     52.8 MiB      0.0 MiB           2       merge_sort(array, left_index, middle)\n",
            "    23     52.8 MiB      0.0 MiB           2       merge_sort(array, middle + 1, right_index)\n",
            "    24     52.8 MiB      0.0 MiB           2       merge(array, left_index, right_index, middle)\n",
            "\n",
            "\n",
            "Filename: c:\\Users\\Vianiece\\Desktop\\ICT3113\\ICT3113\\merge_sort.py\n",
            "\n",
            "Line #    Mem usage    Increment  Occurrences   Line Contents\n",
            "=============================================================\n",
            "    16     52.8 MiB     52.8 MiB           1   @profile\n",
            "    17                                         def merge_sort(array, left_index, right_index):\n",
            "    18     52.8 MiB      0.0 MiB           1       if left_index >= right_index:\n",
            "    19     52.8 MiB      0.0 MiB           1           return\n",
            "    20                                         \n",
            "    21                                             middle = (left_index + right_index)//2\n",
            "    22                                             merge_sort(array, left_index, middle)\n",
            "    23                                             merge_sort(array, middle + 1, right_index)\n",
            "    24                                             merge(array, left_index, right_index, middle)\n",
            "\n",
            "\n",
            "Filename: c:\\Users\\Vianiece\\Desktop\\ICT3113\\ICT3113\\merge_sort.py\n",
            "\n",
            "Line #    Mem usage    Increment  Occurrences   Line Contents\n",
            "=============================================================\n",
            "    16     52.8 MiB     52.8 MiB           1   @profile\n",
            "    17                                         def merge_sort(array, left_index, right_index):\n",
            "    18     52.8 MiB      0.0 MiB           1       if left_index >= right_index:\n",
            "    19     52.8 MiB      0.0 MiB           1           return\n",
            "    20                                         \n",
            "    21                                             middle = (left_index + right_index)//2\n",
            "    22                                             merge_sort(array, left_index, middle)\n",
            "    23                                             merge_sort(array, middle + 1, right_index)\n",
            "    24                                             merge(array, left_index, right_index, middle)\n",
            "\n",
            "\n",
            "Filename: c:\\Users\\Vianiece\\Desktop\\ICT3113\\ICT3113\\merge_sort.py\n",
            "\n",
            "Line #    Mem usage    Increment  Occurrences   Line Contents\n",
            "=============================================================\n",
            "    16     52.8 MiB     52.8 MiB           3   @profile\n",
            "    17                                         def merge_sort(array, left_index, right_index):\n",
            "    18     52.8 MiB      0.0 MiB           3       if left_index >= right_index:\n",
            "    19     52.8 MiB      0.0 MiB           2           return\n",
            "    20                                         \n",
            "    21     52.8 MiB      0.0 MiB           1       middle = (left_index + right_index)//2\n",
            "    22     52.8 MiB      0.0 MiB           1       merge_sort(array, left_index, middle)\n",
            "    23     52.8 MiB      0.0 MiB           1       merge_sort(array, middle + 1, right_index)\n",
            "    24     52.8 MiB      0.0 MiB           1       merge(array, left_index, right_index, middle)\n",
            "\n",
            "\n",
            "Filename: c:\\Users\\Vianiece\\Desktop\\ICT3113\\ICT3113\\merge_sort.py\n",
            "\n",
            "Line #    Mem usage    Increment  Occurrences   Line Contents\n",
            "=============================================================\n",
            "    16     52.8 MiB     52.8 MiB           9   @profile\n",
            "    17                                         def merge_sort(array, left_index, right_index):\n",
            "    18     52.8 MiB      0.0 MiB           9       if left_index >= right_index:\n",
            "    19     52.8 MiB      0.0 MiB           5           return\n",
            "    20                                         \n",
            "    21     52.8 MiB      0.0 MiB           4       middle = (left_index + right_index)//2\n",
            "    22     52.8 MiB      0.0 MiB           4       merge_sort(array, left_index, middle)\n",
            "    23     52.8 MiB      0.0 MiB           4       merge_sort(array, middle + 1, right_index)\n",
            "    24     52.8 MiB      0.0 MiB           4       merge(array, left_index, right_index, middle)\n",
            "\n",
            "\n",
            "Filename: c:\\Users\\Vianiece\\Desktop\\ICT3113\\ICT3113\\merge_sort.py\n",
            "\n",
            "Line #    Mem usage    Increment  Occurrences   Line Contents\n",
            "=============================================================\n",
            "    16     52.8 MiB     52.8 MiB           1   @profile\n",
            "    17                                         def merge_sort(array, left_index, right_index):\n",
            "    18     52.8 MiB      0.0 MiB           1       if left_index >= right_index:\n",
            "    19     52.8 MiB      0.0 MiB           1           return\n",
            "    20                                         \n",
            "    21                                             middle = (left_index + right_index)//2\n",
            "    22                                             merge_sort(array, left_index, middle)\n",
            "    23                                             merge_sort(array, middle + 1, right_index)\n",
            "    24                                             merge(array, left_index, right_index, middle)\n",
            "\n",
            "\n",
            "Filename: c:\\Users\\Vianiece\\Desktop\\ICT3113\\ICT3113\\merge_sort.py\n",
            "\n",
            "Line #    Mem usage    Increment  Occurrences   Line Contents\n",
            "=============================================================\n",
            "    16     52.8 MiB     52.8 MiB           1   @profile\n",
            "    17                                         def merge_sort(array, left_index, right_index):\n",
            "    18     52.8 MiB      0.0 MiB           1       if left_index >= right_index:\n",
            "    19     52.8 MiB      0.0 MiB           1           return\n",
            "    20                                         \n",
            "    21                                             middle = (left_index + right_index)//2\n",
            "    22                                             merge_sort(array, left_index, middle)\n",
            "    23                                             merge_sort(array, middle + 1, right_index)\n",
            "    24                                             merge(array, left_index, right_index, middle)\n",
            "\n",
            "\n",
            "Filename: c:\\Users\\Vianiece\\Desktop\\ICT3113\\ICT3113\\merge_sort.py\n",
            "\n",
            "Line #    Mem usage    Increment  Occurrences   Line Contents\n",
            "=============================================================\n",
            "    16     52.8 MiB     52.8 MiB           3   @profile\n",
            "    17                                         def merge_sort(array, left_index, right_index):\n",
            "    18     52.8 MiB      0.0 MiB           3       if left_index >= right_index:\n",
            "    19     52.8 MiB      0.0 MiB           2           return\n",
            "    20                                         \n",
            "    21     52.8 MiB      0.0 MiB           1       middle = (left_index + right_index)//2\n",
            "    22     52.8 MiB      0.0 MiB           1       merge_sort(array, left_index, middle)\n",
            "    23     52.8 MiB      0.0 MiB           1       merge_sort(array, middle + 1, right_index)\n",
            "    24     52.8 MiB      0.0 MiB           1       merge(array, left_index, right_index, middle)\n",
            "\n",
            "\n",
            "Filename: c:\\Users\\Vianiece\\Desktop\\ICT3113\\ICT3113\\merge_sort.py\n",
            "\n",
            "Line #    Mem usage    Increment  Occurrences   Line Contents\n",
            "=============================================================\n",
            "    16     52.8 MiB     52.8 MiB           1   @profile\n",
            "    17                                         def merge_sort(array, left_index, right_index):\n",
            "    18     52.8 MiB      0.0 MiB           1       if left_index >= right_index:\n",
            "    19     52.8 MiB      0.0 MiB           1           return\n",
            "    20                                         \n",
            "    21                                             middle = (left_index + right_index)//2\n",
            "    22                                             merge_sort(array, left_index, middle)\n",
            "    23                                             merge_sort(array, middle + 1, right_index)\n",
            "    24                                             merge(array, left_index, right_index, middle)\n",
            "\n",
            "\n",
            "Filename: c:\\Users\\Vianiece\\Desktop\\ICT3113\\ICT3113\\merge_sort.py\n",
            "\n",
            "Line #    Mem usage    Increment  Occurrences   Line Contents\n",
            "=============================================================\n",
            "    16     52.8 MiB     52.8 MiB           5   @profile\n",
            "    17                                         def merge_sort(array, left_index, right_index):\n",
            "    18     52.8 MiB      0.0 MiB           5       if left_index >= right_index:\n",
            "    19     52.8 MiB      0.0 MiB           3           return\n",
            "    20                                         \n",
            "    21     52.8 MiB      0.0 MiB           2       middle = (left_index + right_index)//2\n",
            "    22     52.8 MiB      0.0 MiB           2       merge_sort(array, left_index, middle)\n",
            "    23     52.8 MiB      0.0 MiB           2       merge_sort(array, middle + 1, right_index)\n",
            "    24     52.8 MiB      0.0 MiB           2       merge(array, left_index, right_index, middle)\n",
            "\n",
            "\n",
            "Filename: c:\\Users\\Vianiece\\Desktop\\ICT3113\\ICT3113\\merge_sort.py\n",
            "\n",
            "Line #    Mem usage    Increment  Occurrences   Line Contents\n",
            "=============================================================\n",
            "    16     52.8 MiB     52.8 MiB           1   @profile\n",
            "    17                                         def merge_sort(array, left_index, right_index):\n",
            "    18     52.8 MiB      0.0 MiB           1       if left_index >= right_index:\n",
            "    19     52.8 MiB      0.0 MiB           1           return\n",
            "    20                                         \n",
            "    21                                             middle = (left_index + right_index)//2\n",
            "    22                                             merge_sort(array, left_index, middle)\n",
            "    23                                             merge_sort(array, middle + 1, right_index)\n",
            "    24                                             merge(array, left_index, right_index, middle)\n",
            "\n",
            "\n",
            "Filename: c:\\Users\\Vianiece\\Desktop\\ICT3113\\ICT3113\\merge_sort.py\n",
            "\n",
            "Line #    Mem usage    Increment  Occurrences   Line Contents\n",
            "=============================================================\n",
            "    16     52.8 MiB     52.8 MiB           1   @profile\n",
            "    17                                         def merge_sort(array, left_index, right_index):\n",
            "    18     52.8 MiB      0.0 MiB           1       if left_index >= right_index:\n",
            "    19     52.8 MiB      0.0 MiB           1           return\n",
            "    20                                         \n",
            "    21                                             middle = (left_index + right_index)//2\n",
            "    22                                             merge_sort(array, left_index, middle)\n",
            "    23                                             merge_sort(array, middle + 1, right_index)\n",
            "    24                                             merge(array, left_index, right_index, middle)\n",
            "\n",
            "\n",
            "Filename: c:\\Users\\Vianiece\\Desktop\\ICT3113\\ICT3113\\merge_sort.py\n",
            "\n",
            "Line #    Mem usage    Increment  Occurrences   Line Contents\n",
            "=============================================================\n",
            "    16     52.8 MiB     52.8 MiB           3   @profile\n",
            "    17                                         def merge_sort(array, left_index, right_index):\n",
            "    18     52.8 MiB      0.0 MiB           3       if left_index >= right_index:\n",
            "    19     52.8 MiB      0.0 MiB           2           return\n",
            "    20                                         \n",
            "    21     52.8 MiB      0.0 MiB           1       middle = (left_index + right_index)//2\n",
            "    22     52.8 MiB      0.0 MiB           1       merge_sort(array, left_index, middle)\n",
            "    23     52.8 MiB      0.0 MiB           1       merge_sort(array, middle + 1, right_index)\n",
            "    24     52.8 MiB      0.0 MiB           1       merge(array, left_index, right_index, middle)\n",
            "\n",
            "\n",
            "Filename: c:\\Users\\Vianiece\\Desktop\\ICT3113\\ICT3113\\merge_sort.py\n",
            "\n",
            "Line #    Mem usage    Increment  Occurrences   Line Contents\n",
            "=============================================================\n",
            "    16     52.8 MiB     52.8 MiB           9   @profile\n",
            "    17                                         def merge_sort(array, left_index, right_index):\n",
            "    18     52.8 MiB      0.0 MiB           9       if left_index >= right_index:\n",
            "    19     52.8 MiB      0.0 MiB           5           return\n",
            "    20                                         \n",
            "    21     52.8 MiB      0.0 MiB           4       middle = (left_index + right_index)//2\n",
            "    22     52.8 MiB      0.0 MiB           4       merge_sort(array, left_index, middle)\n",
            "    23     52.8 MiB      0.0 MiB           4       merge_sort(array, middle + 1, right_index)\n",
            "    24     52.8 MiB      0.0 MiB           4       merge(array, left_index, right_index, middle)\n",
            "\n",
            "\n",
            "Filename: c:\\Users\\Vianiece\\Desktop\\ICT3113\\ICT3113\\merge_sort.py\n",
            "\n",
            "Line #    Mem usage    Increment  Occurrences   Line Contents\n",
            "=============================================================\n",
            "    16     52.8 MiB     52.8 MiB          19   @profile\n",
            "    17                                         def merge_sort(array, left_index, right_index):\n",
            "    18     52.8 MiB      0.0 MiB          19       if left_index >= right_index:\n",
            "    19     52.8 MiB      0.0 MiB          10           return\n",
            "    20                                         \n",
            "    21     52.8 MiB      0.0 MiB           9       middle = (left_index + right_index)//2\n",
            "    22     52.8 MiB      0.0 MiB           9       merge_sort(array, left_index, middle)\n",
            "    23     52.8 MiB      0.0 MiB           9       merge_sort(array, middle + 1, right_index)\n",
            "    24     52.8 MiB      0.0 MiB           9       merge(array, left_index, right_index, middle)\n",
            "\n",
            "\n"
          ]
        }
      ],
      "source": [
        "!python merge_sort.py"
      ]
    },
    {
      "cell_type": "markdown",
      "metadata": {
        "id": "IDkwXaLxhMzF"
      },
      "source": [
        "Notice that the logs are really hard to read. Primarily it is because of the recursive call, hence for the same function gets called recursively many times. Each time it is called it is difficult to see the memory allocated. You may need to run these more than once, obtain the average to get a good stable result."
      ]
    },
    {
      "cell_type": "markdown",
      "metadata": {
        "id": "Ry0qodftWXQ6"
      },
      "source": [
        "### 2.4.2 tracemalloc"
      ]
    },
    {
      "cell_type": "code",
      "execution_count": 40,
      "metadata": {
        "id": "lbXE0eDijfzq"
      },
      "outputs": [
        {
          "name": "stdout",
          "output_type": "stream",
          "text": [
            "Current memory usage is 0.002449MB; Peak was 0.0206MB; Duration was 0.3129483000084292\n"
          ]
        }
      ],
      "source": [
        "import tracemalloc\n",
        "\n",
        "init_random_array(1000)\n",
        "tracemalloc.start()\n",
        "start= perf_counter()\n",
        "insertion_sort(array)\n",
        "duration = perf_counter() - start\n",
        "current, peak = tracemalloc.get_traced_memory()\n",
        "print(f\"Current memory usage is {current / 10**6}MB; Peak was {peak / 10**6}MB; Duration was {duration}\")\n",
        "tracemalloc.stop()\n"
      ]
    },
    {
      "cell_type": "code",
      "execution_count": 42,
      "metadata": {
        "id": "G_hXHXWQj2vJ"
      },
      "outputs": [
        {
          "name": "stdout",
          "output_type": "stream",
          "text": [
            "Current memory usage is 0.367302MB; Peak was 0.385498MB; Duration was 0.011380600015399978\n"
          ]
        }
      ],
      "source": [
        "import tracemalloc\n",
        "\n",
        "init_random_array(1000)\n",
        "tracemalloc.start()\n",
        "start= perf_counter()\n",
        "merge_sort(array, 0, len(array)-1)\n",
        "duration = perf_counter() - start\n",
        "current, peak = tracemalloc.get_traced_memory()\n",
        "print(f\"Current memory usage is {current / 10**6}MB; Peak was {peak / 10**6}MB; Duration was {duration}\")\n",
        "tracemalloc.stop()\n"
      ]
    },
    {
      "cell_type": "code",
      "execution_count": 43,
      "metadata": {
        "id": "Ii9yC2YPnPOw"
      },
      "outputs": [],
      "source": [
        "def partition(array, start, end):\n",
        "    pivot = array[start]\n",
        "    low = start + 1\n",
        "    high = end\n",
        "\n",
        "    while True:\n",
        "        # If the current value we're looking at is larger than the pivot\n",
        "        # it's in the right place (right side of pivot) and we can move left,\n",
        "        # to the next element.\n",
        "        # We also need to make sure we haven't surpassed the low pointer, since that\n",
        "        # indicates we have already moved all the elements to their correct side of the pivot\n",
        "        while low <= high and array[high] >= pivot:\n",
        "            high = high - 1\n",
        "\n",
        "        # Opposite process of the one above\n",
        "        while low <= high and array[low] <= pivot:\n",
        "            low = low + 1\n",
        "\n",
        "        # We either found a value for both high and low that is out of order\n",
        "        # or low is higher than high, in which case we exit the loop\n",
        "        if low <= high:\n",
        "            array[low], array[high] = array[high], array[low]\n",
        "            # The loop continues\n",
        "        else:\n",
        "            # We exit out of the loop\n",
        "            break\n",
        "\n",
        "    array[start], array[high] = array[high], array[start]\n",
        "\n",
        "    return high\n",
        "\n",
        "def quick_sort(array, start, end):\n",
        "    if start >= end:\n",
        "        return\n",
        "\n",
        "    p = partition(array, start, end)\n",
        "    quick_sort(array, start, p-1)\n",
        "    quick_sort(array, p+1, end)"
      ]
    },
    {
      "cell_type": "code",
      "execution_count": null,
      "metadata": {
        "id": "jKovBTPanTZz"
      },
      "outputs": [],
      "source": []
    }
  ],
  "metadata": {
    "colab": {
      "provenance": []
    },
    "kernelspec": {
      "display_name": "Python 3",
      "name": "python3"
    },
    "language_info": {
      "codemirror_mode": {
        "name": "ipython",
        "version": 3
      },
      "file_extension": ".py",
      "mimetype": "text/x-python",
      "name": "python",
      "nbconvert_exporter": "python",
      "pygments_lexer": "ipython3",
      "version": "3.12.2"
    }
  },
  "nbformat": 4,
  "nbformat_minor": 0
}
